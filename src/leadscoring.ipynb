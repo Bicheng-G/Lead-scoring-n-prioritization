{
 "cells": [
  {
   "cell_type": "code",
   "execution_count": 1,
   "metadata": {
    "scrolled": true
   },
   "outputs": [],
   "source": [
    "import pandas as pd\n",
    "import numpy as np\n",
    "import matplotlib.pyplot as plt\n",
    "import seaborn as sns\n",
    "\n",
    "from sklearn import metrics\n",
    "from sklearn.metrics import roc_curve\n",
    "from sklearn import tree\n",
    "\n",
    "randomstate = 0"
   ]
  },
  {
   "cell_type": "markdown",
   "metadata": {},
   "source": [
    "### Question 1 a)"
   ]
  },
  {
   "cell_type": "code",
   "execution_count": 2,
   "metadata": {},
   "outputs": [
    {
     "name": "stdout",
     "output_type": "stream",
     "text": [
      "<class 'pandas.core.frame.DataFrame'>\n",
      "RangeIndex: 403 entries, 0 to 402\n",
      "Data columns (total 13 columns):\n",
      " #   Column        Non-Null Count  Dtype \n",
      "---  ------        --------------  ----- \n",
      " 0   Subject_ID    403 non-null    int64 \n",
      " 1   Total_Chol    403 non-null    int64 \n",
      " 2   HDL           403 non-null    int64 \n",
      " 3   Age           403 non-null    int64 \n",
      " 4   Gender        403 non-null    object\n",
      " 5   Height        403 non-null    int64 \n",
      " 6   Weight        403 non-null    int64 \n",
      " 7   Body_Frame    403 non-null    object\n",
      " 8   Systolic_BP   403 non-null    int64 \n",
      " 9   Diastolic_BP  403 non-null    int64 \n",
      " 10  Waist         403 non-null    int64 \n",
      " 11  Hip           403 non-null    int64 \n",
      " 12  Membership    403 non-null    object\n",
      "dtypes: int64(10), object(3)\n",
      "memory usage: 41.1+ KB\n"
     ]
    },
    {
     "data": {
      "text/html": [
       "<div>\n",
       "<style scoped>\n",
       "    .dataframe tbody tr th:only-of-type {\n",
       "        vertical-align: middle;\n",
       "    }\n",
       "\n",
       "    .dataframe tbody tr th {\n",
       "        vertical-align: top;\n",
       "    }\n",
       "\n",
       "    .dataframe thead th {\n",
       "        text-align: right;\n",
       "    }\n",
       "</style>\n",
       "<table border=\"1\" class=\"dataframe\">\n",
       "  <thead>\n",
       "    <tr style=\"text-align: right;\">\n",
       "      <th></th>\n",
       "      <th>Subject_ID</th>\n",
       "      <th>Total_Chol</th>\n",
       "      <th>HDL</th>\n",
       "      <th>Age</th>\n",
       "      <th>Gender</th>\n",
       "      <th>Height</th>\n",
       "      <th>Weight</th>\n",
       "      <th>Body_Frame</th>\n",
       "      <th>Systolic_BP</th>\n",
       "      <th>Diastolic_BP</th>\n",
       "      <th>Waist</th>\n",
       "      <th>Hip</th>\n",
       "      <th>Membership</th>\n",
       "    </tr>\n",
       "  </thead>\n",
       "  <tbody>\n",
       "    <tr>\n",
       "      <th>count</th>\n",
       "      <td>403.000000</td>\n",
       "      <td>403.000000</td>\n",
       "      <td>403.000000</td>\n",
       "      <td>403.000000</td>\n",
       "      <td>403</td>\n",
       "      <td>403.000000</td>\n",
       "      <td>403.000000</td>\n",
       "      <td>403</td>\n",
       "      <td>403.000000</td>\n",
       "      <td>403.000000</td>\n",
       "      <td>403.000000</td>\n",
       "      <td>403.000000</td>\n",
       "      <td>403</td>\n",
       "    </tr>\n",
       "    <tr>\n",
       "      <th>unique</th>\n",
       "      <td>NaN</td>\n",
       "      <td>NaN</td>\n",
       "      <td>NaN</td>\n",
       "      <td>NaN</td>\n",
       "      <td>2</td>\n",
       "      <td>NaN</td>\n",
       "      <td>NaN</td>\n",
       "      <td>3</td>\n",
       "      <td>NaN</td>\n",
       "      <td>NaN</td>\n",
       "      <td>NaN</td>\n",
       "      <td>NaN</td>\n",
       "      <td>2</td>\n",
       "    </tr>\n",
       "    <tr>\n",
       "      <th>top</th>\n",
       "      <td>NaN</td>\n",
       "      <td>NaN</td>\n",
       "      <td>NaN</td>\n",
       "      <td>NaN</td>\n",
       "      <td>female</td>\n",
       "      <td>NaN</td>\n",
       "      <td>NaN</td>\n",
       "      <td>medium</td>\n",
       "      <td>NaN</td>\n",
       "      <td>NaN</td>\n",
       "      <td>NaN</td>\n",
       "      <td>NaN</td>\n",
       "      <td>No</td>\n",
       "    </tr>\n",
       "    <tr>\n",
       "      <th>freq</th>\n",
       "      <td>NaN</td>\n",
       "      <td>NaN</td>\n",
       "      <td>NaN</td>\n",
       "      <td>NaN</td>\n",
       "      <td>234</td>\n",
       "      <td>NaN</td>\n",
       "      <td>NaN</td>\n",
       "      <td>191</td>\n",
       "      <td>NaN</td>\n",
       "      <td>NaN</td>\n",
       "      <td>NaN</td>\n",
       "      <td>NaN</td>\n",
       "      <td>331</td>\n",
       "    </tr>\n",
       "    <tr>\n",
       "      <th>mean</th>\n",
       "      <td>15978.310174</td>\n",
       "      <td>221.305211</td>\n",
       "      <td>44.761787</td>\n",
       "      <td>46.851117</td>\n",
       "      <td>NaN</td>\n",
       "      <td>65.992556</td>\n",
       "      <td>177.588089</td>\n",
       "      <td>NaN</td>\n",
       "      <td>136.756824</td>\n",
       "      <td>83.200993</td>\n",
       "      <td>37.890819</td>\n",
       "      <td>43.027295</td>\n",
       "      <td>NaN</td>\n",
       "    </tr>\n",
       "    <tr>\n",
       "      <th>std</th>\n",
       "      <td>11881.122124</td>\n",
       "      <td>62.744873</td>\n",
       "      <td>11.593352</td>\n",
       "      <td>16.312333</td>\n",
       "      <td>NaN</td>\n",
       "      <td>3.921803</td>\n",
       "      <td>40.290538</td>\n",
       "      <td>NaN</td>\n",
       "      <td>22.653356</td>\n",
       "      <td>13.566376</td>\n",
       "      <td>5.732251</td>\n",
       "      <td>5.658767</td>\n",
       "      <td>NaN</td>\n",
       "    </tr>\n",
       "    <tr>\n",
       "      <th>min</th>\n",
       "      <td>1000.000000</td>\n",
       "      <td>150.000000</td>\n",
       "      <td>10.000000</td>\n",
       "      <td>19.000000</td>\n",
       "      <td>NaN</td>\n",
       "      <td>52.000000</td>\n",
       "      <td>99.000000</td>\n",
       "      <td>NaN</td>\n",
       "      <td>90.000000</td>\n",
       "      <td>48.000000</td>\n",
       "      <td>26.000000</td>\n",
       "      <td>30.000000</td>\n",
       "      <td>NaN</td>\n",
       "    </tr>\n",
       "    <tr>\n",
       "      <th>25%</th>\n",
       "      <td>4792.500000</td>\n",
       "      <td>183.000000</td>\n",
       "      <td>38.000000</td>\n",
       "      <td>34.000000</td>\n",
       "      <td>NaN</td>\n",
       "      <td>63.000000</td>\n",
       "      <td>151.000000</td>\n",
       "      <td>NaN</td>\n",
       "      <td>121.000000</td>\n",
       "      <td>74.500000</td>\n",
       "      <td>33.000000</td>\n",
       "      <td>39.000000</td>\n",
       "      <td>NaN</td>\n",
       "    </tr>\n",
       "    <tr>\n",
       "      <th>50%</th>\n",
       "      <td>15766.000000</td>\n",
       "      <td>203.000000</td>\n",
       "      <td>45.000000</td>\n",
       "      <td>45.000000</td>\n",
       "      <td>NaN</td>\n",
       "      <td>66.000000</td>\n",
       "      <td>173.000000</td>\n",
       "      <td>NaN</td>\n",
       "      <td>136.000000</td>\n",
       "      <td>82.000000</td>\n",
       "      <td>37.000000</td>\n",
       "      <td>42.000000</td>\n",
       "      <td>NaN</td>\n",
       "    </tr>\n",
       "    <tr>\n",
       "      <th>75%</th>\n",
       "      <td>20336.000000</td>\n",
       "      <td>232.000000</td>\n",
       "      <td>53.000000</td>\n",
       "      <td>60.000000</td>\n",
       "      <td>NaN</td>\n",
       "      <td>69.000000</td>\n",
       "      <td>200.000000</td>\n",
       "      <td>NaN</td>\n",
       "      <td>146.000000</td>\n",
       "      <td>90.000000</td>\n",
       "      <td>41.000000</td>\n",
       "      <td>46.000000</td>\n",
       "      <td>NaN</td>\n",
       "    </tr>\n",
       "    <tr>\n",
       "      <th>max</th>\n",
       "      <td>41756.000000</td>\n",
       "      <td>426.000000</td>\n",
       "      <td>70.000000</td>\n",
       "      <td>92.000000</td>\n",
       "      <td>NaN</td>\n",
       "      <td>76.000000</td>\n",
       "      <td>325.000000</td>\n",
       "      <td>NaN</td>\n",
       "      <td>250.000000</td>\n",
       "      <td>124.000000</td>\n",
       "      <td>56.000000</td>\n",
       "      <td>64.000000</td>\n",
       "      <td>NaN</td>\n",
       "    </tr>\n",
       "  </tbody>\n",
       "</table>\n",
       "</div>"
      ],
      "text/plain": [
       "          Subject_ID  Total_Chol         HDL         Age  Gender      Height  \\\n",
       "count     403.000000  403.000000  403.000000  403.000000     403  403.000000   \n",
       "unique           NaN         NaN         NaN         NaN       2         NaN   \n",
       "top              NaN         NaN         NaN         NaN  female         NaN   \n",
       "freq             NaN         NaN         NaN         NaN     234         NaN   \n",
       "mean    15978.310174  221.305211   44.761787   46.851117     NaN   65.992556   \n",
       "std     11881.122124   62.744873   11.593352   16.312333     NaN    3.921803   \n",
       "min      1000.000000  150.000000   10.000000   19.000000     NaN   52.000000   \n",
       "25%      4792.500000  183.000000   38.000000   34.000000     NaN   63.000000   \n",
       "50%     15766.000000  203.000000   45.000000   45.000000     NaN   66.000000   \n",
       "75%     20336.000000  232.000000   53.000000   60.000000     NaN   69.000000   \n",
       "max     41756.000000  426.000000   70.000000   92.000000     NaN   76.000000   \n",
       "\n",
       "            Weight Body_Frame  Systolic_BP  Diastolic_BP       Waist  \\\n",
       "count   403.000000        403   403.000000    403.000000  403.000000   \n",
       "unique         NaN          3          NaN           NaN         NaN   \n",
       "top            NaN     medium          NaN           NaN         NaN   \n",
       "freq           NaN        191          NaN           NaN         NaN   \n",
       "mean    177.588089        NaN   136.756824     83.200993   37.890819   \n",
       "std      40.290538        NaN    22.653356     13.566376    5.732251   \n",
       "min      99.000000        NaN    90.000000     48.000000   26.000000   \n",
       "25%     151.000000        NaN   121.000000     74.500000   33.000000   \n",
       "50%     173.000000        NaN   136.000000     82.000000   37.000000   \n",
       "75%     200.000000        NaN   146.000000     90.000000   41.000000   \n",
       "max     325.000000        NaN   250.000000    124.000000   56.000000   \n",
       "\n",
       "               Hip Membership  \n",
       "count   403.000000        403  \n",
       "unique         NaN          2  \n",
       "top            NaN         No  \n",
       "freq           NaN        331  \n",
       "mean     43.027295        NaN  \n",
       "std       5.658767        NaN  \n",
       "min      30.000000        NaN  \n",
       "25%      39.000000        NaN  \n",
       "50%      42.000000        NaN  \n",
       "75%      46.000000        NaN  \n",
       "max      64.000000        NaN  "
      ]
     },
     "execution_count": 2,
     "metadata": {},
     "output_type": "execute_result"
    }
   ],
   "source": [
    "df = pd.read_csv('/Users/cavin/Desktop/TBA3222 Marketing Analytics Assignment02/gym_customers_binary.csv')\n",
    "\n",
    "#Summary statistics for the given dataset\n",
    "df.info()\n",
    "df.describe(include = 'all')"
   ]
  },
  {
   "cell_type": "code",
   "execution_count": 3,
   "metadata": {},
   "outputs": [
    {
     "name": "stdout",
     "output_type": "stream",
     "text": [
      "[1, 1, 1, 0, 0, 0, 0, 0, 0, 1, 1, 1, 1, 1, 0, 1, 1, 0, 0, 1, 0, 0, 1, 1, 1, 1, 0, 0, 1, 0, 1, 0, 0, 1, 0, 1, 0, 0, 0, 0, 1, 1, 0, 0, 1, 1, 1, 0, 1, 1, 0, 1, 1, 1, 1, 1, 0, 1, 1, 1, 1, 0, 1, 1, 0, 1, 1, 1, 1, 1, 0, 1, 1, 1, 0, 1, 1, 0, 1, 1, 0, 1, 0, 1, 1, 0, 1, 1, 1, 0, 0, 1, 1, 0, 1, 1, 1, 1, 1, 0, 1, 0, 1, 0, 1, 0, 1, 1, 0, 0, 0, 0, 0, 1, 1, 0, 1, 1, 0, 0, 0, 1, 0, 1, 0, 1, 1, 1, 1, 0, 1, 1, 1, 1, 1, 1, 0, 1, 0, 0, 1, 1, 1, 0, 1, 0, 0, 0, 1, 0, 0, 1, 0, 0, 1, 0, 0, 1, 0, 1, 0, 0, 1, 1, 1, 1, 0, 1, 1, 1, 1, 1, 0, 0, 1, 0, 1, 1, 0, 0, 1, 0, 1, 0, 0, 1, 0, 0, 1, 1, 1, 1, 0, 1, 0, 1, 1, 0, 1, 0, 1, 1, 0, 1, 0, 0, 0, 1, 1, 1, 0, 1, 1, 0, 0, 1, 1, 0, 1, 1, 1, 1, 0, 1, 1, 0, 1, 1, 0, 1, 0, 1, 0, 0, 1, 0, 1, 0, 0, 1, 0, 1, 0, 1, 0, 1, 1, 1, 1, 1, 1, 1, 1, 0, 1, 1, 1, 0, 1, 0, 0, 0, 0, 1, 0, 1, 1, 0, 0, 1, 0, 0, 1, 1, 1, 1, 0, 1, 1, 0, 1, 0, 1, 0, 1, 1, 1, 1, 0, 1, 0, 0, 1, 0, 0, 0, 1, 1, 1, 1, 1, 1, 1, 1, 1, 0, 1, 1, 1, 0, 1, 1, 0, 0, 0, 1, 1, 1, 1, 0, 0, 1, 0, 0, 0, 0, 0, 0, 1, 0, 0, 1, 1, 0, 1, 0, 1, 1, 1, 1, 0, 1, 1, 1, 1, 1, 1, 0, 1, 0, 0, 1, 0, 0, 1, 0, 0, 0, 0, 0, 1, 1, 1, 1, 1, 1, 0, 0, 1, 1, 1, 1, 1, 1, 0, 0, 0, 0, 0, 1, 1, 0, 1, 0, 0, 1, 1, 1, 0, 0, 1, 1, 0, 0, 1, 0, 1, 1, 0, 1, 1, 1, 1]\n",
      "   Body_Frame_large  Body_Frame_medium  Body_Frame_small\n",
      "0                 0                  1                 0\n",
      "1                 1                  0                 0\n",
      "2                 1                  0                 0\n",
      "3                 1                  0                 0\n",
      "4                 0                  1                 0\n"
     ]
    },
    {
     "data": {
      "text/html": [
       "<div>\n",
       "<style scoped>\n",
       "    .dataframe tbody tr th:only-of-type {\n",
       "        vertical-align: middle;\n",
       "    }\n",
       "\n",
       "    .dataframe tbody tr th {\n",
       "        vertical-align: top;\n",
       "    }\n",
       "\n",
       "    .dataframe thead th {\n",
       "        text-align: right;\n",
       "    }\n",
       "</style>\n",
       "<table border=\"1\" class=\"dataframe\">\n",
       "  <thead>\n",
       "    <tr style=\"text-align: right;\">\n",
       "      <th></th>\n",
       "      <th>Total_Chol</th>\n",
       "      <th>HDL</th>\n",
       "      <th>Age</th>\n",
       "      <th>Height</th>\n",
       "      <th>Weight</th>\n",
       "      <th>Systolic_BP</th>\n",
       "      <th>Diastolic_BP</th>\n",
       "      <th>Waist</th>\n",
       "      <th>Hip</th>\n",
       "      <th>Membership</th>\n",
       "      <th>Gender</th>\n",
       "      <th>Body_Frame_medium</th>\n",
       "      <th>Body_Frame_small</th>\n",
       "    </tr>\n",
       "  </thead>\n",
       "  <tbody>\n",
       "    <tr>\n",
       "      <th>0</th>\n",
       "      <td>150</td>\n",
       "      <td>47</td>\n",
       "      <td>46</td>\n",
       "      <td>62</td>\n",
       "      <td>121</td>\n",
       "      <td>118</td>\n",
       "      <td>59</td>\n",
       "      <td>29</td>\n",
       "      <td>38</td>\n",
       "      <td>No</td>\n",
       "      <td>1</td>\n",
       "      <td>1</td>\n",
       "      <td>0</td>\n",
       "    </tr>\n",
       "    <tr>\n",
       "      <th>1</th>\n",
       "      <td>189</td>\n",
       "      <td>53</td>\n",
       "      <td>29</td>\n",
       "      <td>64</td>\n",
       "      <td>218</td>\n",
       "      <td>112</td>\n",
       "      <td>68</td>\n",
       "      <td>46</td>\n",
       "      <td>48</td>\n",
       "      <td>No</td>\n",
       "      <td>1</td>\n",
       "      <td>0</td>\n",
       "      <td>0</td>\n",
       "    </tr>\n",
       "    <tr>\n",
       "      <th>2</th>\n",
       "      <td>232</td>\n",
       "      <td>47</td>\n",
       "      <td>58</td>\n",
       "      <td>61</td>\n",
       "      <td>256</td>\n",
       "      <td>190</td>\n",
       "      <td>92</td>\n",
       "      <td>49</td>\n",
       "      <td>57</td>\n",
       "      <td>No</td>\n",
       "      <td>1</td>\n",
       "      <td>0</td>\n",
       "      <td>0</td>\n",
       "    </tr>\n",
       "    <tr>\n",
       "      <th>3</th>\n",
       "      <td>199</td>\n",
       "      <td>53</td>\n",
       "      <td>67</td>\n",
       "      <td>67</td>\n",
       "      <td>119</td>\n",
       "      <td>110</td>\n",
       "      <td>50</td>\n",
       "      <td>33</td>\n",
       "      <td>38</td>\n",
       "      <td>No</td>\n",
       "      <td>0</td>\n",
       "      <td>0</td>\n",
       "      <td>0</td>\n",
       "    </tr>\n",
       "    <tr>\n",
       "      <th>4</th>\n",
       "      <td>413</td>\n",
       "      <td>44</td>\n",
       "      <td>64</td>\n",
       "      <td>68</td>\n",
       "      <td>183</td>\n",
       "      <td>138</td>\n",
       "      <td>80</td>\n",
       "      <td>44</td>\n",
       "      <td>41</td>\n",
       "      <td>Yes</td>\n",
       "      <td>0</td>\n",
       "      <td>1</td>\n",
       "      <td>0</td>\n",
       "    </tr>\n",
       "  </tbody>\n",
       "</table>\n",
       "</div>"
      ],
      "text/plain": [
       "   Total_Chol  HDL  Age  Height  Weight  Systolic_BP  Diastolic_BP  Waist  \\\n",
       "0         150   47   46      62     121          118            59     29   \n",
       "1         189   53   29      64     218          112            68     46   \n",
       "2         232   47   58      61     256          190            92     49   \n",
       "3         199   53   67      67     119          110            50     33   \n",
       "4         413   44   64      68     183          138            80     44   \n",
       "\n",
       "   Hip Membership  Gender  Body_Frame_medium  Body_Frame_small  \n",
       "0   38         No       1                  1                 0  \n",
       "1   48         No       1                  0                 0  \n",
       "2   57         No       1                  0                 0  \n",
       "3   38         No       0                  0                 0  \n",
       "4   41        Yes       0                  1                 0  "
      ]
     },
     "execution_count": 3,
     "metadata": {},
     "output_type": "execute_result"
    }
   ],
   "source": [
    "dummy_gender = [1 if i=='female' else 0 for i in df.Gender.values]\n",
    "print(dummy_gender)\n",
    "\n",
    "dummy_Body_Frame = pd.get_dummies(df['Body_Frame'], prefix='Body_Frame')\n",
    "print(dummy_Body_Frame.head())\n",
    "\n",
    "df_new = df.drop(['Subject_ID','Gender','Body_Frame'],axis =1)\n",
    "df_new = df_new.join(pd.DataFrame(dummy_gender, columns = ['Gender']))\n",
    "df_new = df_new.join(dummy_Body_Frame[['Body_Frame_medium','Body_Frame_small']])\n",
    "\n",
    "df_new.head()"
   ]
  },
  {
   "cell_type": "code",
   "execution_count": 4,
   "metadata": {
    "scrolled": true
   },
   "outputs": [
    {
     "data": {
      "image/png": "[encoded data removed]",
      "text/plain": [
       "<Figure size 432x288 with 1 Axes>"
      ]
     },
     "metadata": {
      "needs_background": "light"
     },
     "output_type": "display_data"
    }
   ],
   "source": [
    "# plot the membership distribution\n",
    "ax = sns.countplot(x=\"Membership\", data=df_new)"
   ]
  },
  {
   "cell_type": "code",
   "execution_count": 5,
   "metadata": {},
   "outputs": [
    {
     "data": {
      "text/plain": [
       "array([[<matplotlib.axes._subplots.AxesSubplot object at 0x7fec2d2c9290>,\n",
       "        <matplotlib.axes._subplots.AxesSubplot object at 0x7fec2d4987d0>,\n",
       "        <matplotlib.axes._subplots.AxesSubplot object at 0x7fec2d4ccfd0>],\n",
       "       [<matplotlib.axes._subplots.AxesSubplot object at 0x7fec2d50e810>,\n",
       "        <matplotlib.axes._subplots.AxesSubplot object at 0x7fec2d543f90>,\n",
       "        <matplotlib.axes._subplots.AxesSubplot object at 0x7fec2d585850>],\n",
       "       [<matplotlib.axes._subplots.AxesSubplot object at 0x7fec2d5c2cd0>,\n",
       "        <matplotlib.axes._subplots.AxesSubplot object at 0x7fec2d5fa890>,\n",
       "        <matplotlib.axes._subplots.AxesSubplot object at 0x7fec2d603410>],\n",
       "       [<matplotlib.axes._subplots.AxesSubplot object at 0x7fec2d637d90>,\n",
       "        <matplotlib.axes._subplots.AxesSubplot object at 0x7fec2d6acc50>,\n",
       "        <matplotlib.axes._subplots.AxesSubplot object at 0x7fec2d6e3910>]],\n",
       "      dtype=object)"
      ]
     },
     "execution_count": 5,
     "metadata": {},
     "output_type": "execute_result"
    },
    {
     "data": {
      "image/png": "[encoded data removed]",
      "text/plain": [
       "<Figure size 1080x1080 with 12 Axes>"
      ]
     },
     "metadata": {
      "needs_background": "light"
     },
     "output_type": "display_data"
    }
   ],
   "source": [
    "#Plot and show the distributions of all the numeric features.\n",
    "df_new.hist(figsize=(15, 15))"
   ]
  },
  {
   "cell_type": "markdown",
   "metadata": {},
   "source": [
    "### 1b)"
   ]
  },
  {
   "cell_type": "code",
   "execution_count": 6,
   "metadata": {},
   "outputs": [
    {
     "name": "stdout",
     "output_type": "stream",
     "text": [
      "Test record count: 121 Membership    121\n",
      "dtype: int64\n",
      "Train record count: 282 Membership    282\n",
      "dtype: int64\n"
     ]
    }
   ],
   "source": [
    "#b)\n",
    "#partition dataset to training and testing \n",
    "from sklearn.model_selection import train_test_split\n",
    "\n",
    "df2=df_new.drop(['Membership'],axis=1)\n",
    "\n",
    "feature_train, feature_test, membership_train, membership_test = train_test_split(df2,pd.DataFrame(df_new['Membership'],columns=['Membership']),test_size=0.30,shuffle=True,random_state=randomstate)\n",
    "\n",
    "#respective number of customer records in the training and testing set\n",
    "print('Test record count:',feature_test['Body_Frame_medium'].count(), membership_test.count())\n",
    "print('Train record count:',feature_train['Body_Frame_medium'].count(), membership_train.count())"
   ]
  },
  {
   "cell_type": "markdown",
   "metadata": {},
   "source": [
    "### 1c)"
   ]
  },
  {
   "cell_type": "code",
   "execution_count": 7,
   "metadata": {},
   "outputs": [
    {
     "name": "stderr",
     "output_type": "stream",
     "text": [
      "/Users/cavin/opt/anaconda3/lib/python3.7/site-packages/sklearn/linear_model/_logistic.py:940: ConvergenceWarning: lbfgs failed to converge (status=1):\n",
      "STOP: TOTAL NO. of ITERATIONS REACHED LIMIT.\n",
      "\n",
      "Increase the number of iterations (max_iter) or scale the data as shown in:\n",
      "    https://scikit-learn.org/stable/modules/preprocessing.html\n",
      "Please also refer to the documentation for alternative solver options:\n",
      "    https://scikit-learn.org/stable/modules/linear_model.html#logistic-regression\n",
      "  extra_warning_msg=_LOGISTIC_SOLVER_CONVERGENCE_MSG)\n"
     ]
    }
   ],
   "source": [
    "#construct a Logistic Regression model\n",
    "from sklearn.linear_model import LogisticRegression\n",
    "\n",
    "clf = LogisticRegression(random_state=randomstate,C=1e9).fit(feature_train, membership_train.Membership.values.ravel())\n",
    "\n",
    "test_predictions = clf.predict(feature_test)\n",
    "train_predictions = clf.predict(feature_train)"
   ]
  },
  {
   "cell_type": "code",
   "execution_count": 8,
   "metadata": {},
   "outputs": [
    {
     "name": "stdout",
     "output_type": "stream",
     "text": [
      "Mean Test Accuracy: 0.9586776859504132\n",
      "Mean Train Accuracy: 0.9787234042553191\n"
     ]
    }
   ],
   "source": [
    "# Use score method to get accuracy of model\n",
    "test_score = clf.score(feature_test, membership_test)\n",
    "test_mean_score = np.mean(test_score)\n",
    "print('Mean Test Accuracy:', test_mean_score)\n",
    "\n",
    "train_score = clf.score(feature_train, membership_train)\n",
    "train_mean_score = np.mean(train_score)\n",
    "print('Mean Train Accuracy:', train_mean_score)"
   ]
  },
  {
   "cell_type": "code",
   "execution_count": 9,
   "metadata": {},
   "outputs": [
    {
     "name": "stdout",
     "output_type": "stream",
     "text": [
      "Test confution matrix \n",
      " [[101   3]\n",
      " [  2  15]]\n",
      "Train confution matrix \n",
      " [[226   1]\n",
      " [  5  50]]\n"
     ]
    }
   ],
   "source": [
    "#confusion matrix\n",
    "from sklearn.metrics import confusion_matrix\n",
    "\n",
    "test_cm = confusion_matrix(membership_test, test_predictions)\n",
    "train_cm = confusion_matrix(membership_train, train_predictions)\n",
    "\n",
    "print('Test confution matrix \\n',test_cm)\n",
    "print('Train confution matrix \\n',train_cm)"
   ]
  },
  {
   "cell_type": "code",
   "execution_count": 10,
   "metadata": {},
   "outputs": [
    {
     "name": "stdout",
     "output_type": "stream",
     "text": [
      "Overall test accuracy: 0.9586776859504132\n",
      "Overall test error: 0.04132231404958678\n",
      "Test sensitivity (Y=1): 0.8823529411764706\n",
      "Test specificity (Y=0): 0.9711538461538461\n",
      "\n",
      "Overall train accuracy: 0.9787234042553191\n",
      "Overall train error: 0.02127659574468085\n",
      "Train sensitivity (Y=1): 0.9090909090909091\n",
      "Train specificity (Y=0): 0.9955947136563876\n"
     ]
    }
   ],
   "source": [
    "#Another way to get accuracy\n",
    "#test accuracy & sensitivity\n",
    "tn, fp, fn, tp = confusion_matrix(membership_test, test_predictions).ravel()\n",
    "print('Overall test accuracy:', (tn+tp)/(tn+fp+fn+tp)) \n",
    "print('Overall test error:', (fp+fn)/(tn+fp+fn+tp))\n",
    "print('Test sensitivity (Y=1):', tp/(fn+tp))\n",
    "print('Test specificity (Y=0):', tn/(tn+fp)) \n",
    "print( )\n",
    "\n",
    "#Train accuracy & sensitivity\n",
    "tn, fp, fn, tp = confusion_matrix(membership_train, train_predictions).ravel()\n",
    "print('Overall train accuracy:', (tn+tp)/(tn+fp+fn+tp)) \n",
    "print('Overall train error:', (fp+fn)/(tn+fp+fn+tp))\n",
    "print('Train sensitivity (Y=1):', tp/(fn+tp))\n",
    "print('Train specificity (Y=0):', tn/(tn+fp))"
   ]
  },
  {
   "cell_type": "code",
   "execution_count": 11,
   "metadata": {},
   "outputs": [
    {
     "data": {
      "image/png": "[encoded data removed]",
      "text/plain": [
       "<Figure size 432x288 with 1 Axes>"
      ]
     },
     "metadata": {
      "needs_background": "light"
     },
     "output_type": "display_data"
    }
   ],
   "source": [
    "#plot the receiver-operating-characteristics (ROC) curve of the Logistic Regression model\n",
    "\n",
    "metrics.plot_roc_curve(clf, feature_test, membership_test)\n",
    "plt.plot(np.linspace(0,1,11),np.linspace(0,1,11),color = 'r')\n",
    "plt.title('ROC for sklearn-logistic regression')\n",
    "plt.show()   "
   ]
  },
  {
   "cell_type": "code",
   "execution_count": 12,
   "metadata": {
    "scrolled": true
   },
   "outputs": [
    {
     "name": "stderr",
     "output_type": "stream",
     "text": [
      "/Users/cavin/opt/anaconda3/lib/python3.7/site-packages/sklearn/utils/validation.py:760: DataConversionWarning: A column-vector y was passed when a 1d array was expected. Please change the shape of y to (n_samples, ), for example using ravel().\n",
      "  y = column_or_1d(y, warn=True)\n"
     ]
    },
    {
     "data": {
      "image/png": "[encoded data removed]",
      "text/plain": [
       "<Figure size 432x288 with 1 Axes>"
      ]
     },
     "metadata": {
      "needs_background": "light"
     },
     "output_type": "display_data"
    }
   ],
   "source": [
    "#random model as bench mark \n",
    "#using SVC as bench mark \n",
    "from sklearn.svm import SVC\n",
    "\n",
    "clsvm = SVC(random_state=randomstate)\n",
    "clsvm.fit(feature_train, membership_train)\n",
    "SVC(random_state=randomstate)\n",
    "metrics.plot_roc_curve(clsvm, feature_test, membership_test) \n",
    "plt.plot(np.linspace(0,1,11),np.linspace(0,1,11),color = 'r')\n",
    "plt.title('ROC for sklearn-SVC')\n",
    "plt.show()          "
   ]
  },
  {
   "cell_type": "code",
   "execution_count": 13,
   "metadata": {},
   "outputs": [],
   "source": [
    "#export to csv\n",
    "train_set = feature_train.join(membership_train)\n",
    "test_set = feature_test.join(membership_test)\n",
    "train_set.to_csv('membership_train_set_sen{0:.3f}_spec{1:.3f}.csv'.format(tp/(fn+tp),tn/(tn+fp)), index=False)\n",
    "test_set.to_csv('membership_test_set_sen{0:.3f}_spec{1:.3f}.csv'.format(tp/(fn+tp),tn/(tn+fp)), index=False)"
   ]
  },
  {
   "cell_type": "markdown",
   "metadata": {},
   "source": [
    "### 1d)"
   ]
  },
  {
   "cell_type": "code",
   "execution_count": 14,
   "metadata": {},
   "outputs": [
    {
     "name": "stdout",
     "output_type": "stream",
     "text": [
      "Optimization terminated successfully.\n",
      "         Current function value: 0.053090\n",
      "         Iterations 13\n"
     ]
    },
    {
     "data": {
      "text/html": [
       "<table class=\"simpletable\">\n",
       "<caption>Logit Regression Results</caption>\n",
       "<tr>\n",
       "  <th>Dep. Variable:</th>           <td>y</td>        <th>  No. Observations:  </th>  <td>   282</td>  \n",
       "</tr>\n",
       "<tr>\n",
       "  <th>Model:</th>                 <td>Logit</td>      <th>  Df Residuals:      </th>  <td>   269</td>  \n",
       "</tr>\n",
       "<tr>\n",
       "  <th>Method:</th>                 <td>MLE</td>       <th>  Df Model:          </th>  <td>    12</td>  \n",
       "</tr>\n",
       "<tr>\n",
       "  <th>Date:</th>            <td>Sun, 28 Mar 2021</td> <th>  Pseudo R-squ.:     </th>  <td>0.8924</td>  \n",
       "</tr>\n",
       "<tr>\n",
       "  <th>Time:</th>                <td>00:29:35</td>     <th>  Log-Likelihood:    </th> <td> -14.971</td> \n",
       "</tr>\n",
       "<tr>\n",
       "  <th>converged:</th>             <td>True</td>       <th>  LL-Null:           </th> <td> -139.15</td> \n",
       "</tr>\n",
       "<tr>\n",
       "  <th>Covariance Type:</th>     <td>nonrobust</td>    <th>  LLR p-value:       </th> <td>3.008e-46</td>\n",
       "</tr>\n",
       "</table>\n",
       "<table class=\"simpletable\">\n",
       "<tr>\n",
       "          <td></td>             <th>coef</th>     <th>std err</th>      <th>z</th>      <th>P>|z|</th>  <th>[0.025</th>    <th>0.975]</th>  \n",
       "</tr>\n",
       "<tr>\n",
       "  <th>const</th>             <td>  -86.1000</td> <td>   41.740</td> <td>   -2.063</td> <td> 0.039</td> <td> -167.909</td> <td>   -4.291</td>\n",
       "</tr>\n",
       "<tr>\n",
       "  <th>Total_Chol</th>        <td>    0.3186</td> <td>    0.129</td> <td>    2.464</td> <td> 0.014</td> <td>    0.065</td> <td>    0.572</td>\n",
       "</tr>\n",
       "<tr>\n",
       "  <th>HDL</th>               <td>   -0.0688</td> <td>    0.057</td> <td>   -1.201</td> <td> 0.230</td> <td>   -0.181</td> <td>    0.043</td>\n",
       "</tr>\n",
       "<tr>\n",
       "  <th>Age</th>               <td>    0.0470</td> <td>    0.047</td> <td>    1.001</td> <td> 0.317</td> <td>   -0.045</td> <td>    0.139</td>\n",
       "</tr>\n",
       "<tr>\n",
       "  <th>Height</th>            <td>   -0.0326</td> <td>    0.231</td> <td>   -0.141</td> <td> 0.888</td> <td>   -0.485</td> <td>    0.420</td>\n",
       "</tr>\n",
       "<tr>\n",
       "  <th>Weight</th>            <td>   -0.0384</td> <td>    0.043</td> <td>   -0.903</td> <td> 0.366</td> <td>   -0.122</td> <td>    0.045</td>\n",
       "</tr>\n",
       "<tr>\n",
       "  <th>Systolic_BP</th>       <td>   -0.0283</td> <td>    0.035</td> <td>   -0.799</td> <td> 0.425</td> <td>   -0.098</td> <td>    0.041</td>\n",
       "</tr>\n",
       "<tr>\n",
       "  <th>Diastolic_BP</th>      <td>    0.1420</td> <td>    0.085</td> <td>    1.673</td> <td> 0.094</td> <td>   -0.024</td> <td>    0.308</td>\n",
       "</tr>\n",
       "<tr>\n",
       "  <th>Waist</th>             <td>    0.4989</td> <td>    0.292</td> <td>    1.708</td> <td> 0.088</td> <td>   -0.073</td> <td>    1.071</td>\n",
       "</tr>\n",
       "<tr>\n",
       "  <th>Hip</th>               <td>   -0.1463</td> <td>    0.215</td> <td>   -0.681</td> <td> 0.496</td> <td>   -0.567</td> <td>    0.275</td>\n",
       "</tr>\n",
       "<tr>\n",
       "  <th>Gender</th>            <td>   -1.6966</td> <td>    1.970</td> <td>   -0.861</td> <td> 0.389</td> <td>   -5.557</td> <td>    2.164</td>\n",
       "</tr>\n",
       "<tr>\n",
       "  <th>Body_Frame_medium</th> <td>   -1.7618</td> <td>    1.398</td> <td>   -1.260</td> <td> 0.208</td> <td>   -4.503</td> <td>    0.979</td>\n",
       "</tr>\n",
       "<tr>\n",
       "  <th>Body_Frame_small</th>  <td>   -3.6495</td> <td>    2.616</td> <td>   -1.395</td> <td> 0.163</td> <td>   -8.776</td> <td>    1.477</td>\n",
       "</tr>\n",
       "</table><br/><br/>Possibly complete quasi-separation: A fraction 0.72 of observations can be<br/>perfectly predicted. This might indicate that there is complete<br/>quasi-separation. In this case some parameters will not be identified."
      ],
      "text/plain": [
       "<class 'statsmodels.iolib.summary.Summary'>\n",
       "\"\"\"\n",
       "                           Logit Regression Results                           \n",
       "==============================================================================\n",
       "Dep. Variable:                      y   No. Observations:                  282\n",
       "Model:                          Logit   Df Residuals:                      269\n",
       "Method:                           MLE   Df Model:                           12\n",
       "Date:                Sun, 28 Mar 2021   Pseudo R-squ.:                  0.8924\n",
       "Time:                        00:29:35   Log-Likelihood:                -14.971\n",
       "converged:                       True   LL-Null:                       -139.15\n",
       "Covariance Type:            nonrobust   LLR p-value:                 3.008e-46\n",
       "=====================================================================================\n",
       "                        coef    std err          z      P>|z|      [0.025      0.975]\n",
       "-------------------------------------------------------------------------------------\n",
       "const               -86.1000     41.740     -2.063      0.039    -167.909      -4.291\n",
       "Total_Chol            0.3186      0.129      2.464      0.014       0.065       0.572\n",
       "HDL                  -0.0688      0.057     -1.201      0.230      -0.181       0.043\n",
       "Age                   0.0470      0.047      1.001      0.317      -0.045       0.139\n",
       "Height               -0.0326      0.231     -0.141      0.888      -0.485       0.420\n",
       "Weight               -0.0384      0.043     -0.903      0.366      -0.122       0.045\n",
       "Systolic_BP          -0.0283      0.035     -0.799      0.425      -0.098       0.041\n",
       "Diastolic_BP          0.1420      0.085      1.673      0.094      -0.024       0.308\n",
       "Waist                 0.4989      0.292      1.708      0.088      -0.073       1.071\n",
       "Hip                  -0.1463      0.215     -0.681      0.496      -0.567       0.275\n",
       "Gender               -1.6966      1.970     -0.861      0.389      -5.557       2.164\n",
       "Body_Frame_medium    -1.7618      1.398     -1.260      0.208      -4.503       0.979\n",
       "Body_Frame_small     -3.6495      2.616     -1.395      0.163      -8.776       1.477\n",
       "=====================================================================================\n",
       "\n",
       "Possibly complete quasi-separation: A fraction 0.72 of observations can be\n",
       "perfectly predicted. This might indicate that there is complete\n",
       "quasi-separation. In this case some parameters will not be identified.\n",
       "\"\"\""
      ]
     },
     "execution_count": 14,
     "metadata": {},
     "output_type": "execute_result"
    }
   ],
   "source": [
    "# construct stats_LR model with full set of features\n",
    "import statsmodels.api as sm\n",
    "# note: as statsmodels LR do not automatically fit a constant, we need to manually add a constant \n",
    "logit = sm.Logit([1 if i=='Yes' else 0 for i in membership_train.Membership.values], sm.tools.add_constant(feature_train))\n",
    "\n",
    "# fit the model\n",
    "stat_clf = logit.fit()\n",
    "stat_clf.summary()"
   ]
  },
  {
   "cell_type": "code",
   "execution_count": 21,
   "metadata": {},
   "outputs": [
    {
     "data": {
      "text/html": [
       "<div>\n",
       "<style scoped>\n",
       "    .dataframe tbody tr th:only-of-type {\n",
       "        vertical-align: middle;\n",
       "    }\n",
       "\n",
       "    .dataframe tbody tr th {\n",
       "        vertical-align: top;\n",
       "    }\n",
       "\n",
       "    .dataframe thead th {\n",
       "        text-align: right;\n",
       "    }\n",
       "</style>\n",
       "<table border=\"1\" class=\"dataframe\">\n",
       "  <thead>\n",
       "    <tr style=\"text-align: right;\">\n",
       "      <th></th>\n",
       "      <th>Total_Chol</th>\n",
       "    </tr>\n",
       "  </thead>\n",
       "  <tbody>\n",
       "    <tr>\n",
       "      <th>0</th>\n",
       "      <td>150</td>\n",
       "    </tr>\n",
       "    <tr>\n",
       "      <th>1</th>\n",
       "      <td>189</td>\n",
       "    </tr>\n",
       "    <tr>\n",
       "      <th>2</th>\n",
       "      <td>232</td>\n",
       "    </tr>\n",
       "    <tr>\n",
       "      <th>3</th>\n",
       "      <td>199</td>\n",
       "    </tr>\n",
       "    <tr>\n",
       "      <th>4</th>\n",
       "      <td>413</td>\n",
       "    </tr>\n",
       "  </tbody>\n",
       "</table>\n",
       "</div>"
      ],
      "text/plain": [
       "   Total_Chol\n",
       "0         150\n",
       "1         189\n",
       "2         232\n",
       "3         199\n",
       "4         413"
      ]
     },
     "execution_count": 21,
     "metadata": {},
     "output_type": "execute_result"
    }
   ],
   "source": [
    "#identify significant feature p-value <0.05\n",
    "#Total_Chol,Age,Hip,Gender\n",
    "df_trimed = df_new[['Total_Chol']]\n",
    "df_trimed.head()"
   ]
  },
  {
   "cell_type": "code",
   "execution_count": 23,
   "metadata": {},
   "outputs": [
    {
     "name": "stdout",
     "output_type": "stream",
     "text": [
      "Mean Test Accuracy: 0.9752066115702479\n",
      "Mean Train Accuracy: 0.975177304964539\n",
      "Test confution matrix \n",
      " [[104   0]\n",
      " [  3  14]]\n",
      "Train confution matrix \n",
      " [[227   0]\n",
      " [  7  48]]\n"
     ]
    },
    {
     "name": "stderr",
     "output_type": "stream",
     "text": [
      "/Users/cavin/opt/anaconda3/lib/python3.7/site-packages/sklearn/utils/validation.py:760: DataConversionWarning: A column-vector y was passed when a 1d array was expected. Please change the shape of y to (n_samples, ), for example using ravel().\n",
      "  y = column_or_1d(y, warn=True)\n"
     ]
    },
    {
     "data": {
      "image/png": "[encoded data removed]",
      "text/plain": [
       "<Figure size 432x288 with 1 Axes>"
      ]
     },
     "metadata": {
      "needs_background": "light"
     },
     "output_type": "display_data"
    }
   ],
   "source": [
    "#trimed train test data\n",
    "\n",
    "trimed_feature_train, trimed_feature_test, trimed_membership_train, trimed_membership_test = train_test_split(df_trimed,pd.DataFrame(df_new['Membership'],columns=['Membership']),test_size=0.30,shuffle=True,random_state=randomstate)\n",
    "\n",
    "from sklearn.linear_model import LogisticRegression\n",
    "\n",
    "clf_trimed = LogisticRegression(random_state=randomstate).fit(trimed_feature_train, trimed_membership_train)\n",
    "\n",
    "trimed_test_predictions = clf_trimed.predict(trimed_feature_test)\n",
    "trimed_train_predictions = clf_trimed.predict(trimed_feature_train)\n",
    "\n",
    "# Use score method to get accuracy of model\n",
    "trimed_test_score = clf_trimed.score(trimed_feature_test, trimed_membership_test)\n",
    "trimed_test_mean_score = np.mean(trimed_test_score)\n",
    "print('Mean Test Accuracy:', trimed_test_mean_score)\n",
    "\n",
    "trimed_train_score = clf_trimed.score(trimed_feature_train, trimed_membership_train)\n",
    "trimed_train_mean_score = np.mean(trimed_train_score)\n",
    "print('Mean Train Accuracy:', trimed_train_mean_score)\n",
    "\n",
    "trimed_test_cm = confusion_matrix(trimed_membership_test, trimed_test_predictions)\n",
    "trimed_train_cm = confusion_matrix(trimed_membership_train, trimed_train_predictions)\n",
    "\n",
    "print('Test confution matrix \\n',trimed_test_cm)\n",
    "print('Train confution matrix \\n',trimed_train_cm)\n",
    "\n",
    "#plot the receiver-operating-characteristics (ROC) curve of the Logistic Regression model\n",
    "\n",
    "metrics.plot_roc_curve(clf_trimed, trimed_feature_test, trimed_membership_test)\n",
    "plt.plot(np.linspace(0,1,11),np.linspace(0,1,11),color = 'r')\n",
    "plt.title('ROC for sklearn-logistic regression Trimmed')\n",
    "plt.show()"
   ]
  },
  {
   "cell_type": "code",
   "execution_count": 17,
   "metadata": {},
   "outputs": [
    {
     "name": "stdout",
     "output_type": "stream",
     "text": [
      "Overall test accuracy: 0.9752066115702479\n",
      "Overall test error: 0.024793388429752067\n",
      "Test sensitivity (Y=1): 0.8235294117647058\n",
      "Test specificity (Y=0): 1.0\n",
      "\n",
      "Overall train accuracy: 0.9787234042553191\n",
      "Overall train error: 0.02127659574468085\n",
      "Train sensitivity (Y=1): 0.8909090909090909\n",
      "Train specificity (Y=0): 1.0\n"
     ]
    }
   ],
   "source": [
    "#test accuracy & sensitivity\n",
    "tn_trimed, fp_trimed, fn_trimed, tp_trimed = confusion_matrix(trimed_membership_test, trimed_test_predictions).ravel()\n",
    "print('Overall test accuracy:', (tn_trimed+tp_trimed)/(tn_trimed+fp_trimed+fn_trimed+tp_trimed)) \n",
    "print('Overall test error:', (fp_trimed+fn_trimed)/(tn_trimed+fp_trimed+fn_trimed+tp_trimed))\n",
    "print('Test sensitivity (Y=1):', tp_trimed/(fn_trimed+tp_trimed))\n",
    "print('Test specificity (Y=0):', tn_trimed/(tn_trimed+fp_trimed)) \n",
    "print( )\n",
    "\n",
    "#Train accuracy & sensitivity\n",
    "tn_trimed, fp_trimed, fn_trimed, tp_trimed = confusion_matrix(trimed_membership_train, trimed_train_predictions).ravel()\n",
    "print('Overall train accuracy:', (tn_trimed+tp_trimed)/(tn_trimed+fp_trimed+fn_trimed+tp_trimed)) \n",
    "print('Overall train error:', (fp_trimed+fn_trimed)/(tn_trimed+fp_trimed+fn_trimed+tp_trimed))\n",
    "print('Train sensitivity (Y=1):', tp_trimed/(fn_trimed+tp_trimed))\n",
    "print('Train specificity (Y=0):', tn_trimed/(tn_trimed+fp_trimed))"
   ]
  },
  {
   "cell_type": "markdown",
   "metadata": {},
   "source": [
    "### 1e)"
   ]
  },
  {
   "cell_type": "code",
   "execution_count": 25,
   "metadata": {},
   "outputs": [
    {
     "data": {
      "image/png": "[encoded data removed]",
      "text/plain": [
       "<Figure size 864x864 with 1 Axes>"
      ]
     },
     "metadata": {
      "needs_background": "light"
     },
     "output_type": "display_data"
    }
   ],
   "source": [
    "#Create the CART object and train using the training set\n",
    "cart = tree.DecisionTreeClassifier()\n",
    "cart = cart.fit(feature_train, membership_train)\n",
    "\n",
    "# plot tree\n",
    "feature_list = ['Total_Chol','HDL','Age','Height','Weight','Systolic_BP','Diastolic_BP','Waist','Hip','Membership','Gender','Body_Frame_medium','Body_Frame_small']\n",
    "\n",
    "plt.figure(figsize=(12,12))  # set plot size (denoted in inches)\n",
    "tree.plot_tree(cart, fontsize=10,label='all',feature_names = feature_list)\n",
    "plt.show()"
   ]
  },
  {
   "cell_type": "code",
   "execution_count": 19,
   "metadata": {},
   "outputs": [
    {
     "name": "stdout",
     "output_type": "stream",
     "text": [
      "CART Mean Test Accuracy: 0.9669421487603306\n",
      "CART Mean Train Accuracy: 1.0\n",
      "CART Test confution matrix \n",
      " [[102   2]\n",
      " [  2  15]]\n",
      "CART Train confution matrix \n",
      " [[227   0]\n",
      " [  0  55]]\n"
     ]
    }
   ],
   "source": [
    "\n",
    "cart_test_predictions = cart.predict(feature_test)\n",
    "cart_train_predictions = cart.predict(feature_train)\n",
    "\n",
    "# Use score method to get accuracy of model\n",
    "cart_test_score = cart.score(feature_test, membership_test)\n",
    "cart_test_mean_score = np.mean(cart_test_score)\n",
    "print('CART Mean Test Accuracy:', cart_test_mean_score)\n",
    "\n",
    "cart_train_score = cart.score(feature_train, membership_train)\n",
    "cart_train_mean_score = np.mean(cart_train_score)\n",
    "print('CART Mean Train Accuracy:', cart_train_mean_score)\n",
    "\n",
    "#confusion matrix\n",
    "cart_test_cm = confusion_matrix(membership_test, cart_test_predictions)\n",
    "cart_train_cm = confusion_matrix(membership_train, cart_train_predictions)\n",
    "\n",
    "print('CART Test confution matrix \\n',cart_test_cm)\n",
    "print('CART Train confution matrix \\n',cart_train_cm)"
   ]
  },
  {
   "cell_type": "code",
   "execution_count": 20,
   "metadata": {},
   "outputs": [
    {
     "name": "stdout",
     "output_type": "stream",
     "text": [
      "Overall test accuracy: 0.9669421487603306\n",
      "Overall test error: 0.03305785123966942\n",
      "Test sensitivity (Y=1): 0.8823529411764706\n",
      "Test specificity (Y=0): 0.9807692307692307\n",
      "\n",
      "Overall train accuracy: 1.0\n",
      "Overall train error: 0.0\n",
      "Train sensitivity (Y=1): 1.0\n",
      "Train specificity (Y=0): 1.0\n"
     ]
    }
   ],
   "source": [
    "#test accuracy & sensitivity\n",
    "tn_cart, fp_cart, fn_cart, tp_cart = confusion_matrix(membership_test, cart_test_predictions).ravel()\n",
    "print('Overall test accuracy:', (tn_cart+tp_cart)/(tn_cart+fp_cart+fn_cart+tp_cart)) \n",
    "print('Overall test error:', (fp_cart+fn_cart)/(tn_cart+fp_cart+fn_cart+tp_cart))\n",
    "print('Test sensitivity (Y=1):', tp_cart/(fn_cart+tp_cart))\n",
    "print('Test specificity (Y=0):', tn_cart/(tn_cart+fp_cart)) \n",
    "print( )\n",
    "\n",
    "#Train accuracy & sensitivity\n",
    "tn_cart, fp_cart, fn_cart, tp_cart = confusion_matrix(membership_train, cart_train_predictions).ravel()\n",
    "print('Overall train accuracy:', (tn_cart+tp_cart)/(tn_cart+fp_cart+fn_cart+tp_cart)) \n",
    "print('Overall train error:', (fp_cart+fn_cart)/(tn_cart+fp_cart+fn_cart+tp_cart))\n",
    "print('Train sensitivity (Y=1):', tp_cart/(fn_cart+tp_cart))\n",
    "print('Train specificity (Y=0):', tn_cart/(tn_cart+fp_cart))"
   ]
  },
  {
   "cell_type": "code",
   "execution_count": null,
   "metadata": {},
   "outputs": [],
   "source": []
  },
  {
   "cell_type": "code",
   "execution_count": null,
   "metadata": {},
   "outputs": [],
   "source": []
  }
 ],
 "metadata": {
  "kernelspec": {
   "display_name": "Python 3",
   "language": "python",
   "name": "python3"
  },
  "language_info": {
   "codemirror_mode": {
    "name": "ipython",
    "version": 3
   },
   "file_extension": ".py",
   "mimetype": "text/x-python",
   "name": "python",
   "nbconvert_exporter": "python",
   "pygments_lexer": "ipython3",
   "version": "3.7.6"
  }
 },
 "nbformat": 4,
 "nbformat_minor": 4
}
